{
 "cells": [
  {
   "cell_type": "code",
   "execution_count": 2,
   "metadata": {},
   "outputs": [
    {
     "name": "stderr",
     "output_type": "stream",
     "text": [
      "/home/mcb/users/rdeng4/.local/lib/python3.6/site-packages/tqdm/auto.py:22: TqdmWarning: IProgress not found. Please update jupyter and ipywidgets. See https://ipywidgets.readthedocs.io/en/stable/user_install.html\n",
      "  from .autonotebook import tqdm as notebook_tqdm\n"
     ]
    },
    {
     "data": {
      "text/plain": [
       "True"
      ]
     },
     "execution_count": 2,
     "metadata": {},
     "output_type": "execute_result"
    }
   ],
   "source": [
    "import torch\n",
    "import torch.nn.functional as F\n",
    "import torch.cuda as cuda\n",
    "\n",
    "torch.manual_seed(2022)\n",
    "x = torch.ones(5)  # input tensor\n",
    "y = torch.tensor([1,0,1],dtype=torch.float32)  # expected output\n",
    "w = torch.randn(5, 3, requires_grad=True) # or through w.requires_grad_(True), set to True if need to compute the gradient w.r.t to such variable\n",
    "b = torch.randn(3)\n",
    "b.requires_grad_(True) # if is False, after running loss.backward(), we can not get the gradient for the parameter\n",
    "z = torch.matmul(x, w)+b\n",
    "\n",
    "# after defining the loss functions based on given parameter (matrix), we can then perform backprop to compute gradient\n",
    "loss = F.binary_cross_entropy_with_logits(z, y)\n",
    "b.requires_grad\n",
    "# loss"
   ]
  },
  {
   "cell_type": "code",
   "execution_count": 45,
   "metadata": {},
   "outputs": [
    {
     "name": "stdout",
     "output_type": "stream",
     "text": [
      "Gradient function for z = <AddBackward0 object at 0x7fd1024439b0>\n",
      "Gradient function for x@w = <SqueezeBackward3 object at 0x7fd102443f28>\n",
      "Gradient function for loss = <BinaryCrossEntropyWithLogitsBackward object at 0x7fd102443390>\n"
     ]
    }
   ],
   "source": [
    "print(f\"Gradient function for z = {z.grad_fn}\")\n",
    "print(f\"Gradient function for x@w = {(x@w).grad_fn}\")\n",
    "print(f\"Gradient function for loss = {loss.grad_fn}\")"
   ]
  },
  {
   "cell_type": "code",
   "execution_count": 46,
   "metadata": {},
   "outputs": [
    {
     "name": "stdout",
     "output_type": "stream",
     "text": [
      "None\n",
      "None\n",
      "tensor([[-0.3062,  0.1600, -0.0679],\n",
      "        [-0.3062,  0.1600, -0.0679],\n",
      "        [-0.3062,  0.1600, -0.0679],\n",
      "        [-0.3062,  0.1600, -0.0679],\n",
      "        [-0.3062,  0.1600, -0.0679]])\n",
      "tensor([-0.3062,  0.1600, -0.0679])\n"
     ]
    }
   ],
   "source": [
    "print(w.grad)\n",
    "print(b.grad)\n",
    "loss.backward() # after each .backward() call, autograd starts populating a new graph!\n",
    "# after backward prop, we get gradients, they will accumulates (not overwrite!) to the existing grad of param\n",
    "print(w.grad)\n",
    "print(b.grad)"
   ]
  },
  {
   "cell_type": "code",
   "execution_count": 48,
   "metadata": {},
   "outputs": [
    {
     "name": "stdout",
     "output_type": "stream",
     "text": [
      "True\n",
      "False\n",
      "True\n"
     ]
    }
   ],
   "source": [
    "print(z.requires_grad)\n",
    "\n",
    "# method 1 of drop grad:\n",
    "with torch.no_grad():\n",
    "    z = torch.matmul(x, w)+b\n",
    "print(z.requires_grad)\n",
    "z.requires_grad_(True) # attach grad_tracking back to tensor param\n",
    "print(z.requires_grad)\n",
    "\n",
    "\n",
    "# method 2 of drop grad: (BETTER!)\n",
    "z_nograd = z.detach()\n",
    "print(z_nograd.requires_grad)\n",
    "print(z.requires_grad)\n"
   ]
  },
  {
   "cell_type": "code",
   "execution_count": 13,
   "metadata": {},
   "outputs": [
    {
     "name": "stdout",
     "output_type": "stream",
     "text": [
      "tensor([0.7080, 0.0303, 0.7388, 0.1738, 0.1694], dtype=torch.float16)\n",
      "tensor([0.5781, 0.2246, 0.2480, 0.8145, 0.3691], dtype=torch.float16)\n"
     ]
    },
    {
     "data": {
      "text/plain": [
       "tensor(0., dtype=torch.float16)"
      ]
     },
     "execution_count": 13,
     "metadata": {},
     "output_type": "execute_result"
    }
   ],
   "source": [
    "t1 = torch.rand(5,dtype=torch.float16)\n",
    "t2 = torch.rand(5,dtype=torch.float16)\n",
    "\n",
    "print(t1)\n",
    "print(t2)\n",
    "t3 = t1 == t2\n",
    "t3 = t3.type(torch.float16)\n",
    "t3.sum()"
   ]
  }
 ],
 "metadata": {
  "kernelspec": {
   "display_name": "Python 3.6.9 64-bit",
   "language": "python",
   "name": "python3"
  },
  "language_info": {
   "codemirror_mode": {
    "name": "ipython",
    "version": 3
   },
   "file_extension": ".py",
   "mimetype": "text/x-python",
   "name": "python",
   "nbconvert_exporter": "python",
   "pygments_lexer": "ipython3",
   "version": "3.6.9"
  },
  "orig_nbformat": 4,
  "vscode": {
   "interpreter": {
    "hash": "31f2aee4e71d21fbe5cf8b01ff0e069b9275f58929596ceb00d14d90e3e16cd6"
   }
  }
 },
 "nbformat": 4,
 "nbformat_minor": 2
}
