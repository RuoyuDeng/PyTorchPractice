{
 "cells": [
  {
   "cell_type": "code",
   "execution_count": 1,
   "metadata": {},
   "outputs": [
    {
     "name": "stderr",
     "output_type": "stream",
     "text": [
      "/home/mcb/users/rdeng4/.local/lib/python3.6/site-packages/tqdm/auto.py:22: TqdmWarning: IProgress not found. Please update jupyter and ipywidgets. See https://ipywidgets.readthedocs.io/en/stable/user_install.html\n",
      "  from .autonotebook import tqdm as notebook_tqdm\n"
     ]
    },
    {
     "data": {
      "text/plain": [
       "device(type='cuda', index=0)"
      ]
     },
     "execution_count": 1,
     "metadata": {},
     "output_type": "execute_result"
    }
   ],
   "source": [
    "import torch\n",
    "\n",
    "device = torch.device(\"cuda:0\" if torch.cuda.is_available() else \"cpu\")\n",
    "torch.manual_seed(2022)\n",
    "device"
   ]
  },
  {
   "cell_type": "code",
   "execution_count": 2,
   "metadata": {},
   "outputs": [],
   "source": [
    "# torch.cuda.memory_summary(device = device,abbreviated = True)"
   ]
  },
  {
   "cell_type": "code",
   "execution_count": 3,
   "metadata": {},
   "outputs": [
    {
     "name": "stdout",
     "output_type": "stream",
     "text": [
      "cpu cpu\n"
     ]
    }
   ],
   "source": [
    "x = torch.rand(10000,10000)\n",
    "y = torch.rand(10000,10000)\n",
    "\n",
    "x_cuda= x.to(device)\n",
    "y_cuda = y.to(device)\n",
    "print(x.device,y.device)"
   ]
  },
  {
   "cell_type": "code",
   "execution_count": 4,
   "metadata": {},
   "outputs": [],
   "source": [
    "# torch.cuda.memory_summary(device = device,abbreviated = True)"
   ]
  },
  {
   "cell_type": "code",
   "execution_count": 5,
   "metadata": {},
   "outputs": [
    {
     "data": {
      "text/plain": [
       "tensor([[2487.3042, 2513.5095, 2494.8752,  ..., 2480.5051, 2500.4521,\n",
       "         2513.7051],\n",
       "        [2484.6069, 2543.6025, 2496.0488,  ..., 2486.4062, 2522.4185,\n",
       "         2506.1406],\n",
       "        [2492.8525, 2510.5154, 2494.7344,  ..., 2485.2454, 2511.9636,\n",
       "         2503.4751],\n",
       "        ...,\n",
       "        [2499.6184, 2537.6343, 2493.0271,  ..., 2475.3284, 2523.0688,\n",
       "         2514.6379],\n",
       "        [2482.1118, 2514.4758, 2492.2839,  ..., 2466.9043, 2491.3027,\n",
       "         2478.1050],\n",
       "        [2467.5188, 2519.9414, 2478.9050,  ..., 2483.3872, 2506.1335,\n",
       "         2492.8809]], device='cuda:0')"
      ]
     },
     "execution_count": 5,
     "metadata": {},
     "output_type": "execute_result"
    }
   ],
   "source": [
    "x_cuda @ y_cuda"
   ]
  },
  {
   "cell_type": "code",
   "execution_count": 6,
   "metadata": {},
   "outputs": [
    {
     "data": {
      "text/plain": [
       "tensor([[2487.3027, 2513.5088, 2494.8708,  ..., 2480.5076, 2500.4541,\n",
       "         2513.7092],\n",
       "        [2484.6055, 2543.6018, 2496.0483,  ..., 2486.4045, 2522.4163,\n",
       "         2506.1421],\n",
       "        [2492.8545, 2510.5146, 2494.7395,  ..., 2485.2439, 2511.9609,\n",
       "         2503.4751],\n",
       "        ...,\n",
       "        [2499.6208, 2537.6370, 2493.0334,  ..., 2475.3254, 2523.0618,\n",
       "         2514.6343],\n",
       "        [2482.1084, 2514.4697, 2492.2893,  ..., 2466.9075, 2491.3083,\n",
       "         2478.1001],\n",
       "        [2467.5212, 2519.9431, 2478.9009,  ..., 2483.3855, 2506.1289,\n",
       "         2492.8853]])"
      ]
     },
     "execution_count": 6,
     "metadata": {},
     "output_type": "execute_result"
    }
   ],
   "source": [
    "x @ y"
   ]
  },
  {
   "cell_type": "code",
   "execution_count": 7,
   "metadata": {},
   "outputs": [
    {
     "data": {
      "text/plain": [
       "1.119140625"
      ]
     },
     "execution_count": 7,
     "metadata": {},
     "output_type": "execute_result"
    }
   ],
   "source": [
    "torch.cuda.memory_allocated()/2**30"
   ]
  },
  {
   "cell_type": "code",
   "execution_count": 8,
   "metadata": {},
   "outputs": [
    {
     "data": {
      "text/plain": [
       "1.12109375"
      ]
     },
     "execution_count": 8,
     "metadata": {},
     "output_type": "execute_result"
    }
   ],
   "source": [
    "torch.cuda.memory_reserved()/2**30"
   ]
  }
 ],
 "metadata": {
  "kernelspec": {
   "display_name": "Python 3.6.9 64-bit",
   "language": "python",
   "name": "python3"
  },
  "language_info": {
   "codemirror_mode": {
    "name": "ipython",
    "version": 3
   },
   "file_extension": ".py",
   "mimetype": "text/x-python",
   "name": "python",
   "nbconvert_exporter": "python",
   "pygments_lexer": "ipython3",
   "version": "3.6.9"
  },
  "orig_nbformat": 4,
  "vscode": {
   "interpreter": {
    "hash": "31f2aee4e71d21fbe5cf8b01ff0e069b9275f58929596ceb00d14d90e3e16cd6"
   }
  }
 },
 "nbformat": 4,
 "nbformat_minor": 2
}
