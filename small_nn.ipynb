{
 "cells": [
  {
   "cell_type": "code",
   "execution_count": 1,
   "metadata": {},
   "outputs": [
    {
     "name": "stderr",
     "output_type": "stream",
     "text": [
      "/home/mcb/users/rdeng4/.local/lib/python3.6/site-packages/tqdm/auto.py:22: TqdmWarning: IProgress not found. Please update jupyter and ipywidgets. See https://ipywidgets.readthedocs.io/en/stable/user_install.html\n",
      "  from .autonotebook import tqdm as notebook_tqdm\n"
     ]
    }
   ],
   "source": [
    "import torch\n",
    "from torch import nn\n",
    "from torch.utils.data import Dataset,DataLoader\n",
    "from torchvision import datasets\n",
    "from torchvision.transforms import ToTensor,Lambda\n",
    "import matplotlib.pyplot as plt\n",
    "\n",
    "\n",
    "training_data = datasets.FashionMNIST(\n",
    "    root=\"data\",\n",
    "    train=True,\n",
    "    download=True,\n",
    "    transform=ToTensor(),\n",
    "    target_transform = Lambda(lambda y: torch.zeros(10, dtype=torch.float).scatter_(dim=0, index=torch.tensor(y), value=1))\n",
    ")\n",
    "\n",
    "test_data = datasets.FashionMNIST(\n",
    "    root=\"data\",\n",
    "    train=False,\n",
    "    download=True,\n",
    "    transform=ToTensor(),\n",
    "    target_transform = Lambda(lambda y: torch.zeros(10, dtype=torch.float).scatter_(dim=0, index=torch.tensor(y), value=1))\n",
    ")"
   ]
  },
  {
   "cell_type": "code",
   "execution_count": 2,
   "metadata": {},
   "outputs": [],
   "source": [
    "# get the raw datas\n",
    "train_dataloader = DataLoader(training_data, batch_size=5000, shuffle=True)\n",
    "test_dataloader = DataLoader(test_data,batch_size=500, shuffle=True)"
   ]
  },
  {
   "cell_type": "code",
   "execution_count": 3,
   "metadata": {},
   "outputs": [
    {
     "name": "stdout",
     "output_type": "stream",
     "text": [
      "cuda:0\n"
     ]
    }
   ],
   "source": [
    "device = \"cuda:0\" if torch.cuda.is_available() else \"cpu\"\n",
    "print(device)"
   ]
  },
  {
   "cell_type": "code",
   "execution_count": 4,
   "metadata": {},
   "outputs": [],
   "source": [
    "# obtain img_raw data and one-hot key encoded labels\n",
    "torch.manual_seed(2022)\n",
    "train_imgs, train_labels = next(iter(train_dataloader))"
   ]
  },
  {
   "cell_type": "code",
   "execution_count": 5,
   "metadata": {},
   "outputs": [],
   "source": [
    "# define the model, only a MLP\n",
    "\n",
    "class MyNN(nn.Module):\n",
    "    def __init__(self, img_shape, unit_dim=512):\n",
    "        super(MyNN,self).__init__()\n",
    "        self.img_shape = img_shape\n",
    "        self.unit_dim = unit_dim\n",
    "    \n",
    "        self.linear = nn.Sequential(\n",
    "            nn.Flatten(), # 28x28 -> 784, can include flatten layer into the sequential layer\n",
    "            nn.Linear(img_shape[0]*img_shape[1],unit_dim), # 784 -> 512\n",
    "            nn.ReLU(),\n",
    "            # nn.MaxPool1d(stride=5,padding=3,kernel_size=2),\n",
    "            nn.Linear(unit_dim,10), # 512 -> 10\n",
    "            nn.Softmax(dim=1) # change this shape 10 from digit form to prob form (softmax)\n",
    "        )\n",
    "        \n",
    "\n",
    "\n",
    "    def forward(self, img):\n",
    "        # img = self.flatten(img)\n",
    "        pred = self.linear(img)\n",
    "        return pred"
   ]
  },
  {
   "cell_type": "code",
   "execution_count": 6,
   "metadata": {},
   "outputs": [
    {
     "name": "stdout",
     "output_type": "stream",
     "text": [
      "Model structure: MyNN(\n",
      "  (linear): Sequential(\n",
      "    (0): Flatten()\n",
      "    (1): Linear(in_features=784, out_features=512, bias=True)\n",
      "    (2): ReLU()\n",
      "    (3): Linear(in_features=512, out_features=10, bias=True)\n",
      "    (4): Softmax(dim=1)\n",
      "  )\n",
      ")\n",
      "\n",
      "\n",
      "Layer: linear.1.weight | Size: torch.Size([512, 784]) | Values : tensor([[ 0.0114,  0.0262, -0.0106,  ..., -0.0127, -0.0006, -0.0354],\n",
      "        [ 0.0337, -0.0190,  0.0019,  ..., -0.0236, -0.0147,  0.0114]],\n",
      "       device='cuda:0', grad_fn=<SliceBackward>) | Shape: torch.Size([512, 784])\n",
      "\n",
      "Layer: linear.1.bias | Size: torch.Size([512]) | Values : tensor([-0.0068, -0.0236], device='cuda:0', grad_fn=<SliceBackward>) | Shape: torch.Size([512])\n",
      "\n",
      "Layer: linear.3.weight | Size: torch.Size([10, 512]) | Values : tensor([[-0.0396, -0.0366,  0.0029,  ..., -0.0102, -0.0164,  0.0336],\n",
      "        [-0.0259, -0.0366,  0.0430,  ...,  0.0364,  0.0066, -0.0140]],\n",
      "       device='cuda:0', grad_fn=<SliceBackward>) | Shape: torch.Size([10, 512])\n",
      "\n",
      "Layer: linear.3.bias | Size: torch.Size([10]) | Values : tensor([ 0.0103, -0.0243], device='cuda:0', grad_fn=<SliceBackward>) | Shape: torch.Size([10])\n",
      "\n"
     ]
    }
   ],
   "source": [
    "try_img = train_imgs[0]\n",
    "try_label = train_labels[0]\n",
    "img_shape = try_img.squeeze().shape\n",
    "try_img = try_img.to(device) # put the data used to train the model to the same device as the model\n",
    "\n",
    "# print(try_img[0].shape)\n",
    "model = MyNN(img_shape).to(device)\n",
    "print(f\"Model structure: {model}\\n\\n\")\n",
    "for name, param in model.named_parameters(): \n",
    "    # print the parameters (the weight matrixes created for each layer)\n",
    "    # since there is no weight matrix associated with activation function, there will be no params for activation layer\n",
    "    # however, for the linear\n",
    "    print(f\"Layer: {name} | Size: {param.size()} | Values : {param[:2]} | Shape: {param.shape}\\n\")"
   ]
  },
  {
   "cell_type": "code",
   "execution_count": 7,
   "metadata": {},
   "outputs": [
    {
     "name": "stdout",
     "output_type": "stream",
     "text": [
      "Predicted class: 8, True class: 4\n"
     ]
    }
   ],
   "source": [
    "pred = model(try_img)\n",
    "label = torch.argmax(pred)\n",
    "true_label = torch.argmax(try_label)\n",
    "print(f\"Predicted class: {label}, True class: {true_label}\")"
   ]
  },
  {
   "cell_type": "markdown",
   "metadata": {},
   "source": [
    "# Actual Training With CNN"
   ]
  }
 ],
 "metadata": {
  "kernelspec": {
   "display_name": "Python 3.6.9 64-bit",
   "language": "python",
   "name": "python3"
  },
  "language_info": {
   "codemirror_mode": {
    "name": "ipython",
    "version": 3
   },
   "file_extension": ".py",
   "mimetype": "text/x-python",
   "name": "python",
   "nbconvert_exporter": "python",
   "pygments_lexer": "ipython3",
   "version": "3.6.9"
  },
  "orig_nbformat": 4,
  "vscode": {
   "interpreter": {
    "hash": "31f2aee4e71d21fbe5cf8b01ff0e069b9275f58929596ceb00d14d90e3e16cd6"
   }
  }
 },
 "nbformat": 4,
 "nbformat_minor": 2
}
