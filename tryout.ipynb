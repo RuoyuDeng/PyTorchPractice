{
 "cells": [
  {
   "cell_type": "code",
   "execution_count": 23,
   "metadata": {},
   "outputs": [],
   "source": [
    "import torch\n",
    "from torch.nn import Linear, Softmax, ReLU,Flatten\n"
   ]
  },
  {
   "cell_type": "code",
   "execution_count": 29,
   "metadata": {},
   "outputs": [
    {
     "data": {
      "text/plain": [
       "tensor([[[0.3958, 0.9219, 0.7588, 0.3811, 0.0262],\n",
       "         [0.3594, 0.7933, 0.7811, 0.4643, 0.6329],\n",
       "         [0.6689, 0.2302, 0.8003, 0.7353, 0.7477],\n",
       "         [0.5585, 0.6226, 0.8429, 0.6105, 0.1248],\n",
       "         [0.8265, 0.2117, 0.8574, 0.4282, 0.3964]]])"
      ]
     },
     "execution_count": 29,
     "metadata": {},
     "output_type": "execute_result"
    }
   ],
   "source": [
    "torch.manual_seed(2022)\n",
    "t1 = torch.rand(1,5,5) # img shape, 1 stands for chanels\n",
    "t1"
   ]
  },
  {
   "cell_type": "code",
   "execution_count": 37,
   "metadata": {},
   "outputs": [
    {
     "name": "stdout",
     "output_type": "stream",
     "text": [
      "tensor([[ 0.3817,  0.5187, -0.0767,  0.1003, -0.2203,  0.2215,  0.1340, -0.5782,\n",
      "         -0.4475, -0.1362]], grad_fn=<AddmmBackward>)\n",
      "tensor([[0.1403, 0.1609, 0.0887, 0.1059, 0.0768, 0.1195, 0.1095, 0.0537, 0.0612,\n",
      "         0.0836]], grad_fn=<SoftmaxBackward>)\n"
     ]
    }
   ],
   "source": [
    "f = Flatten()\n",
    "t2 = f(t1)\n",
    "ll = Linear(25,10)\n",
    "t3 = ll(t2)\n",
    "sm = Softmax(dim=1)\n",
    "t4 = sm(t3)\n",
    "\n",
    "print(t3)\n",
    "print(t4)\n"
   ]
  }
 ],
 "metadata": {
  "kernelspec": {
   "display_name": "Python 3.6.9 64-bit",
   "language": "python",
   "name": "python3"
  },
  "language_info": {
   "codemirror_mode": {
    "name": "ipython",
    "version": 3
   },
   "file_extension": ".py",
   "mimetype": "text/x-python",
   "name": "python",
   "nbconvert_exporter": "python",
   "pygments_lexer": "ipython3",
   "version": "3.6.9"
  },
  "orig_nbformat": 4,
  "vscode": {
   "interpreter": {
    "hash": "31f2aee4e71d21fbe5cf8b01ff0e069b9275f58929596ceb00d14d90e3e16cd6"
   }
  }
 },
 "nbformat": 4,
 "nbformat_minor": 2
}
